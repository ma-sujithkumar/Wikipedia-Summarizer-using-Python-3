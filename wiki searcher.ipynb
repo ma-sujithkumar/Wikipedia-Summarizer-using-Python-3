{
 "cells": [
  {
   "cell_type": "code",
   "execution_count": 1,
   "metadata": {},
   "outputs": [],
   "source": [
    "from tkinter import *\n",
    "from tkinter import messagebox\n",
    "from wikipedia import *\n",
    "import csv\n",
    "import os"
   ]
  },
  {
   "cell_type": "code",
   "execution_count": 2,
   "metadata": {},
   "outputs": [],
   "source": [
    "master=Tk()"
   ]
  },
  {
   "cell_type": "code",
   "execution_count": 3,
   "metadata": {},
   "outputs": [],
   "source": [
    "def Search():\n",
    "    data=text1.get()\n",
    "    name=data+\".txt\"\n",
    "    file=open(name,\"w\",encoding='utf8')\n",
    "    sentences1=text2.get()\n",
    "    try:\n",
    "        result=wikipedia.summary(data,sentences=sentences1)\n",
    "    except:\n",
    "        messagebox.showerror(\"Wiki Searcher\", \"Difficult to identify, Provide more information\")\n",
    "    else:\n",
    "        result=wikipedia.summary(data,sentences=sentences1)\n",
    "        file.write(result)\n",
    "        messagebox.showinfo(\"Wiki Searcher\",\"Succesfully searched and saved\")\n",
    "    "
   ]
  },
  {
   "cell_type": "code",
   "execution_count": 4,
   "metadata": {},
   "outputs": [],
   "source": [
    "def Open():\n",
    "    data=text1.get()\n",
    "    name=data+\".txt\"\n",
    "    os.system(name)"
   ]
  },
  {
   "cell_type": "code",
   "execution_count": 5,
   "metadata": {},
   "outputs": [],
   "source": [
    "def clear():\n",
    "    text1.delete(0,END)\n",
    "    text2.delete(0,END)"
   ]
  },
  {
   "cell_type": "code",
   "execution_count": 6,
   "metadata": {},
   "outputs": [],
   "source": [
    "def Save():\n",
    "    return"
   ]
  },
  {
   "cell_type": "code",
   "execution_count": 7,
   "metadata": {},
   "outputs": [],
   "source": [
    "label1=Label(master,text=\"Enter the thing you want to search:\")\n",
    "label2=Label(master,text=\"Enter the number of sentences:\")\n",
    "label3=Label(master,text=\"Select the format:\")\n",
    "b1=Button(master,text=\"Search and Save\",command=Search,padx=30,pady=20,font=15)\n",
    "b3=Button(master,text=\"Open\",command=Open,padx=30,pady=20,font=15)\n",
    "b4=Button(master,text=\"Exit\",command=master.quit,padx=30,pady=20,font=15)\n",
    "b5=Button(master,text=\"Clear\",command=clear,padx=30,pady=20,font=15)\n",
    "text1=Entry(master,width=35,font=13,borderwidth=5)\n",
    "text2=Entry(master,width=35,font=13,borderwidth=5)"
   ]
  },
  {
   "cell_type": "code",
   "execution_count": 8,
   "metadata": {},
   "outputs": [],
   "source": [
    "label1.grid(row=0,column=0)\n",
    "text1.grid(row=1,column=0,ipadx=20,ipady=15)\n",
    "label2.grid(row=2,column=0)\n",
    "text2.grid(row=3,column=0,ipadx=20,ipady=15)\n",
    "label3.grid(row=4,column=0)\n",
    "b1.grid(row=7)\n",
    "b3.grid(row=8)\n",
    "b4.grid(row=9)\n",
    "b5.grid(row=10)"
   ]
  },
  {
   "cell_type": "code",
   "execution_count": 9,
   "metadata": {},
   "outputs": [],
   "source": [
    "master.mainloop()"
   ]
  }
 ],
 "metadata": {
  "kernelspec": {
   "display_name": "Python 3",
   "language": "python",
   "name": "python3"
  },
  "language_info": {
   "codemirror_mode": {
    "name": "ipython",
    "version": 3
   },
   "file_extension": ".py",
   "mimetype": "text/x-python",
   "name": "python",
   "nbconvert_exporter": "python",
   "pygments_lexer": "ipython3",
   "version": "3.7.6"
  }
 },
 "nbformat": 4,
 "nbformat_minor": 4
}
